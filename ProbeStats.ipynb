{
 "metadata": {
  "name": "",
  "signature": "sha256:fe92fb4077fd7e849d7df64df16119e8319b5083d9c9c250ced543a72047c113"
 },
 "nbformat": 3,
 "nbformat_minor": 0,
 "worksheets": [
  {
   "cells": [
    {
     "cell_type": "code",
     "collapsed": false,
     "input": [
      "%pylab"
     ],
     "language": "python",
     "metadata": {},
     "outputs": [
      {
       "output_type": "stream",
       "stream": "stdout",
       "text": [
        "Using matplotlib backend: MacOSX\n",
        "Populating the interactive namespace from numpy and matplotlib\n"
       ]
      }
     ],
     "prompt_number": 97
    },
    {
     "cell_type": "code",
     "collapsed": false,
     "input": [
      "import json\n",
      "from collections import OrderedDict\n",
      "from copy import deepcopy"
     ],
     "language": "python",
     "metadata": {},
     "outputs": [],
     "prompt_number": 98
    },
    {
     "cell_type": "code",
     "collapsed": false,
     "input": [
      "probes = []\n",
      "for l in open('meta-20150223.txt').readlines():\n",
      "    probes.append(json.loads(l))"
     ],
     "language": "python",
     "metadata": {},
     "outputs": [],
     "prompt_number": 99
    },
    {
     "cell_type": "code",
     "collapsed": false,
     "input": [
      "stats_country = OrderedDict()\n",
      "for p in probes:\n",
      "    cc = p['country_code']\n",
      "    stats_country[cc] = stats_country.get(cc, 0)+1\n",
      "stats_country = OrderedDict(sorted(stats_country.items(), key=lambda t: t[1], reverse=True))\n",
      "stats_country_reduced = deepcopy(stats_country)\n",
      "while len(stats_country_reduced) > 120:\n",
      "     stats_country_reduced.popitem()"
     ],
     "language": "python",
     "metadata": {},
     "outputs": [],
     "prompt_number": 100
    },
    {
     "cell_type": "code",
     "collapsed": false,
     "input": [
      "figure(figsize=(25,4))\n",
      "bar(np.arange(len(stats_country_reduced)), stats_country_reduced.values())\n",
      "devnull = xticks(np.arange(0.5,len(stats_country_reduced)+0.5), stats_country_reduced.keys(), horizontalalignment='center', rotation=90)\n",
      "#yscale('log')\n",
      "title('Probe numbers by country')\n",
      "ylabel('#probes')\n",
      "xlabel('country code')\n",
      "grid(axis='y')\n",
      "savefig('probes-per-country.png')"
     ],
     "language": "python",
     "metadata": {},
     "outputs": [],
     "prompt_number": 101
    },
    {
     "cell_type": "code",
     "collapsed": false,
     "input": [
      "hist(stats_country.values())"
     ],
     "language": "python",
     "metadata": {},
     "outputs": [
      {
       "metadata": {},
       "output_type": "pyout",
       "prompt_number": 94,
       "text": [
        "(array([ 167.,    8.,    4.,    1.,    1.,    0.,    2.,    2.,    0.,    1.]),\n",
        " array([  1.00000000e+00,   1.03600000e+02,   2.06200000e+02,\n",
        "          3.08800000e+02,   4.11400000e+02,   5.14000000e+02,\n",
        "          6.16600000e+02,   7.19200000e+02,   8.21800000e+02,\n",
        "          9.24400000e+02,   1.02700000e+03]),\n",
        " <a list of 10 Patch objects>)"
       ]
      },
      {
       "metadata": {},
       "output_type": "display_data",
       "png": "[encoded data removed]",
       "text": [
        "<matplotlib.figure.Figure at 0x10c735110>"
       ]
      }
     ],
     "prompt_number": 94
    },
    {
     "cell_type": "code",
     "collapsed": false,
     "input": [],
     "language": "python",
     "metadata": {},
     "outputs": []
    }
   ],
   "metadata": {}
  }
 ]
}